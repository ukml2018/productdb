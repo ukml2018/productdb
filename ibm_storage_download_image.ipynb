{
 "cells": [
  {
   "cell_type": "code",
   "execution_count": 1,
   "metadata": {},
   "outputs": [],
   "source": [
    "import os\n",
    "import ibm_boto3\n",
    "from ibm_botocore.client import Config, ClientError\n",
    "import json\n",
    "import requests"
   ]
  },
  {
   "cell_type": "code",
   "execution_count": 2,
   "metadata": {},
   "outputs": [],
   "source": [
    "cos_service_credentials = {\n",
    "    \"apikey\": \"_bAzHuCAN1yPz4Rcg5CZY1Tbp0UOpshuMhpoNkIvJAa3\",\n",
    "    \"endpoints\": \"https://control.cloud-object-storage.cloud.ibm.com/v2/endpoints\",\n",
    "    \"iam_apikey_description\": \"Auto-generated for key b766a2b2-aacd-4a78-aaed-1784769a82a6\",\n",
    "    \"iam_apikey_name\": \"gamification-cos-standard-tkq\",\n",
    "    \"iam_role_crn\": \"crn:v1:bluemix:public:iam::::serviceRole:Writer\",\n",
    "    \"iam_serviceid_crn\": \"crn:v1:bluemix:public:iam-identity::a/693fe8ead49b44b192004113d21b15c2::serviceid:ServiceId-f6d85b01-d45a-4d92-831d-3e3efa44bb3c\",\n",
    "    \"resource_instance_id\": \"crn:v1:bluemix:public:cloud-object-storage:global:a/693fe8ead49b44b192004113d21b15c2:fce26086-5b77-42cc-b1aa-d388aa2853d7::\"\n",
    "}"
   ]
  },
  {
   "cell_type": "code",
   "execution_count": 3,
   "metadata": {},
   "outputs": [],
   "source": [
    "# Rquest detailed enpoint list\n",
    "endpoints = requests.get(cos_service_credentials['endpoints']).json()"
   ]
  },
  {
   "cell_type": "code",
   "execution_count": 4,
   "metadata": {},
   "outputs": [],
   "source": [
    "iam_host = (endpoints['identity-endpoints']['iam-token'])\n",
    "cos_host = (endpoints['service-endpoints']['regional']['us-south']['public']['us-south'])\n",
    "auth_endpoint = \"https://\" + iam_host + \"/oidc/token\"\n",
    "service_endpoint = \"https://\" + cos_host"
   ]
  },
  {
   "cell_type": "code",
   "execution_count": 5,
   "metadata": {},
   "outputs": [],
   "source": [
    "# Create resource\n",
    "cos = ibm_boto3.resource(\"s3\",\n",
    "    ibm_api_key_id=cos_service_credentials['apikey'],\n",
    "    ibm_service_instance_id=cos_service_credentials['resource_instance_id'],\n",
    "    ibm_auth_endpoint=auth_endpoint,\n",
    "    config=Config(signature_version=\"oauth\"),\n",
    "    endpoint_url=service_endpoint\n",
    ")"
   ]
  },
  {
   "cell_type": "code",
   "execution_count": 6,
   "metadata": {},
   "outputs": [],
   "source": [
    "def get_buckets():\n",
    "    print(\"Retrieving list of buckets\")\n",
    "    try:\n",
    "        buckets = cos.buckets.all()\n",
    "        for bucket in buckets:\n",
    "            print(\"\\nBucket Name: {0}\".format(bucket.name))\n",
    "    except ClientError as be:\n",
    "        print(\"CLIENT ERROR: {0}\\n\".format(be))\n",
    "    except Exception as e:\n",
    "        print(\"Unable to retrieve list buckets: {0}\".format(e))"
   ]
  },
  {
   "cell_type": "code",
   "execution_count": 7,
   "metadata": {},
   "outputs": [],
   "source": [
    "def get_bucket_contents(bucket_name):\n",
    "    print(\"Retrieving bucket contents from: {0}\".format(bucket_name))\n",
    "    try:\n",
    "        _files = cos.Bucket(bucket_name).objects.all()\n",
    "        print(type(_files))\n",
    "        fileNames = []\n",
    "        for file in _files:\n",
    "            fileNames.append(file.key)\n",
    "#             print(\"Item: {0} ({1} bytes).\".format(file.key, file.size))\n",
    "        \n",
    "        return fileNames\n",
    "    except ClientError as be:\n",
    "        print(\"CLIENT ERROR: {0}\\n\".format(be))\n",
    "    except Exception as e:\n",
    "        print(\"Unable to retrieve bucket contents: {0}\".format(e))"
   ]
  },
  {
   "cell_type": "code",
   "execution_count": 8,
   "metadata": {},
   "outputs": [],
   "source": [
    "def get_item(bucket_name, item_name):\n",
    "    print(\"Retrieving item {0} from bucket {1}\".format(item_name, bucket_name))\n",
    "    try:\n",
    "        obj = cos.Object(bucket_name, item_name).get()\n",
    "        return obj['Body'].read()\n",
    "    except ClientError as be:\n",
    "        print(\"CLIENT ERROR: {0}\\n\".format(be))\n",
    "    except Exception as e:\n",
    "        print(\"Unable to retrieve file contents: {0}\".format(e))"
   ]
  },
  {
   "cell_type": "code",
   "execution_count": 9,
   "metadata": {},
   "outputs": [
    {
     "name": "stdout",
     "output_type": "stream",
     "text": [
      "Retrieving list of buckets\n",
      "\n",
      "Bucket Name: cloud-warriors\n",
      "\n",
      "Bucket Name: gamification-cos-standard-tkq\n"
     ]
    }
   ],
   "source": [
    "get_buckets()"
   ]
  },
  {
   "cell_type": "code",
   "execution_count": 10,
   "metadata": {},
   "outputs": [],
   "source": [
    "bucket_name = \"gamification-cos-standard-tkq\"\n",
    "# files = get_bucket_contents(bucket_name=bucket_name)"
   ]
  },
  {
   "cell_type": "code",
   "execution_count": 11,
   "metadata": {},
   "outputs": [
    {
     "name": "stdout",
     "output_type": "stream",
     "text": [
      "Retrieving bucket contents from: gamification-cos-standard-tkq\n",
      "<class 'ibm_boto3.resources.collection.s3.Bucket.objectsCollection'>\n"
     ]
    }
   ],
   "source": [
    "files = get_bucket_contents(bucket_name)"
   ]
  },
  {
   "cell_type": "code",
   "execution_count": 12,
   "metadata": {},
   "outputs": [
    {
     "name": "stdout",
     "output_type": "stream",
     "text": [
      "Retrieving item 1001.jpg from bucket gamification-cos-standard-tkq\n",
      "Retrieving item 1002.jpg from bucket gamification-cos-standard-tkq\n",
      "Retrieving item 1003.jpg from bucket gamification-cos-standard-tkq\n",
      "Retrieving item 1004.jpg from bucket gamification-cos-standard-tkq\n",
      "Retrieving item 1005.jpg from bucket gamification-cos-standard-tkq\n",
      "Retrieving item 1006.jpg from bucket gamification-cos-standard-tkq\n",
      "Retrieving item 1007.jpg from bucket gamification-cos-standard-tkq\n",
      "Retrieving item 1008.jpg from bucket gamification-cos-standard-tkq\n",
      "Retrieving item 2001.jpg from bucket gamification-cos-standard-tkq\n",
      "Retrieving item 2002.jpg from bucket gamification-cos-standard-tkq\n",
      "Retrieving item 2003.jpg from bucket gamification-cos-standard-tkq\n",
      "Retrieving item 2004.jpg from bucket gamification-cos-standard-tkq\n",
      "Retrieving item 2005.jpg from bucket gamification-cos-standard-tkq\n",
      "Retrieving item 2006.jpg from bucket gamification-cos-standard-tkq\n",
      "Retrieving item 2007.jpg from bucket gamification-cos-standard-tkq\n",
      "Retrieving item 2008.jpg from bucket gamification-cos-standard-tkq\n",
      "Retrieving item 3001.jpg from bucket gamification-cos-standard-tkq\n",
      "Retrieving item 3002.jpg from bucket gamification-cos-standard-tkq\n",
      "Retrieving item 3003.jpg from bucket gamification-cos-standard-tkq\n",
      "Retrieving item 3004.jpg from bucket gamification-cos-standard-tkq\n",
      "Retrieving item 3005.jpg from bucket gamification-cos-standard-tkq\n",
      "Retrieving item 3006.jpg from bucket gamification-cos-standard-tkq\n",
      "Retrieving item 3007.jpg from bucket gamification-cos-standard-tkq\n",
      "Retrieving item 3008.jpg from bucket gamification-cos-standard-tkq\n",
      "Retrieving item 4001.jpg from bucket gamification-cos-standard-tkq\n",
      "Retrieving item 4002.jpg from bucket gamification-cos-standard-tkq\n",
      "Retrieving item 4003.jpg from bucket gamification-cos-standard-tkq\n",
      "Retrieving item 4004.jpg from bucket gamification-cos-standard-tkq\n",
      "Retrieving item 4005.jpg from bucket gamification-cos-standard-tkq\n",
      "Retrieving item 4006.jpg from bucket gamification-cos-standard-tkq\n",
      "Retrieving item 4007.jpg from bucket gamification-cos-standard-tkq\n",
      "Retrieving item 4008.jpg from bucket gamification-cos-standard-tkq\n",
      "Retrieving item 5001.jpg from bucket gamification-cos-standard-tkq\n",
      "Retrieving item 5002.jpg from bucket gamification-cos-standard-tkq\n",
      "Retrieving item 5003.jpg from bucket gamification-cos-standard-tkq\n",
      "Retrieving item 5004.jpg from bucket gamification-cos-standard-tkq\n",
      "Retrieving item 5005.jpg from bucket gamification-cos-standard-tkq\n",
      "Retrieving item 5006.jpg from bucket gamification-cos-standard-tkq\n",
      "Retrieving item 5007.jpg from bucket gamification-cos-standard-tkq\n",
      "Retrieving item 5008.jpg from bucket gamification-cos-standard-tkq\n",
      "Retrieving item 5009.jpg from bucket gamification-cos-standard-tkq\n",
      "Retrieving item 5010.jpg from bucket gamification-cos-standard-tkq\n",
      "Retrieving item 5011.jpg from bucket gamification-cos-standard-tkq\n",
      "Retrieving item 5012.jpg from bucket gamification-cos-standard-tkq\n",
      "Retrieving item 5013.jpg from bucket gamification-cos-standard-tkq\n",
      "Retrieving item 5014.jpg from bucket gamification-cos-standard-tkq\n",
      "Retrieving item 5015.jpg from bucket gamification-cos-standard-tkq\n",
      "Retrieving item 6001.jpg from bucket gamification-cos-standard-tkq\n",
      "Retrieving item 6002.jpg from bucket gamification-cos-standard-tkq\n",
      "Retrieving item 7001.jpg from bucket gamification-cos-standard-tkq\n",
      "Retrieving item 7002.jpg from bucket gamification-cos-standard-tkq\n",
      "Retrieving item 7003.jpg from bucket gamification-cos-standard-tkq\n",
      "Retrieving item 7004.jpg from bucket gamification-cos-standard-tkq\n",
      "Retrieving item 7005.jpg from bucket gamification-cos-standard-tkq\n",
      "Retrieving item 7006.jpg from bucket gamification-cos-standard-tkq\n",
      "Retrieving item 7007.jpg from bucket gamification-cos-standard-tkq\n",
      "Retrieving item 7008.jpg from bucket gamification-cos-standard-tkq\n",
      "Retrieving item 7009.jpg from bucket gamification-cos-standard-tkq\n",
      "Retrieving item 7010.jpg from bucket gamification-cos-standard-tkq\n",
      "Retrieving item 7011.jpg from bucket gamification-cos-standard-tkq\n",
      "Retrieving item 7012.jpg from bucket gamification-cos-standard-tkq\n",
      "Retrieving item 7013.jpg from bucket gamification-cos-standard-tkq\n",
      "Retrieving item 7014.jpg from bucket gamification-cos-standard-tkq\n",
      "Retrieving item 7015.jpg from bucket gamification-cos-standard-tkq\n",
      "Retrieving item 8001.jpg from bucket gamification-cos-standard-tkq\n",
      "Retrieving item 8002.jpg from bucket gamification-cos-standard-tkq\n",
      "Retrieving item 8003.jpg from bucket gamification-cos-standard-tkq\n",
      "Retrieving item 8004.jpg from bucket gamification-cos-standard-tkq\n",
      "Retrieving item 8005.jpg from bucket gamification-cos-standard-tkq\n",
      "Retrieving item 8006.jpg from bucket gamification-cos-standard-tkq\n",
      "Retrieving item 8007.jpg from bucket gamification-cos-standard-tkq\n",
      "Retrieving item 8008.jpg from bucket gamification-cos-standard-tkq\n",
      "Retrieving item 8009.jpg from bucket gamification-cos-standard-tkq\n",
      "Retrieving item 8010.jpg from bucket gamification-cos-standard-tkq\n",
      "Retrieving item 8011.jpg from bucket gamification-cos-standard-tkq\n",
      "Retrieving item 8012.jpg from bucket gamification-cos-standard-tkq\n",
      "Retrieving item 8013.jpg from bucket gamification-cos-standard-tkq\n",
      "Retrieving item 8014.jpg from bucket gamification-cos-standard-tkq\n",
      "Retrieving item 8015.jpg from bucket gamification-cos-standard-tkq\n",
      "Retrieving item 9001.jpg from bucket gamification-cos-standard-tkq\n",
      "Retrieving item 9002.jpg from bucket gamification-cos-standard-tkq\n",
      "Retrieving item 9003.jpg from bucket gamification-cos-standard-tkq\n",
      "Retrieving item 9004.jpg from bucket gamification-cos-standard-tkq\n",
      "Retrieving item 9005.jpg from bucket gamification-cos-standard-tkq\n",
      "Retrieving item 9006.jpg from bucket gamification-cos-standard-tkq\n",
      "Retrieving item 9007.jpg from bucket gamification-cos-standard-tkq\n",
      "Retrieving item 9008.jpg from bucket gamification-cos-standard-tkq\n",
      "Retrieving item 9009.jpg from bucket gamification-cos-standard-tkq\n",
      "Retrieving item 9010.jpg from bucket gamification-cos-standard-tkq\n",
      "Retrieving item 9011.jpg from bucket gamification-cos-standard-tkq\n",
      "Retrieving item 9012.jpg from bucket gamification-cos-standard-tkq\n",
      "Retrieving item 9013.jpg from bucket gamification-cos-standard-tkq\n",
      "Retrieving item 9014.jpg from bucket gamification-cos-standard-tkq\n",
      "Retrieving item 9015.jpg from bucket gamification-cos-standard-tkq\n"
     ]
    }
   ],
   "source": [
    "for f in files:\n",
    "    img_data = get_item(bucket_name=bucket_name, item_name=f)\n",
    "    with open(f, 'wb') as fl:\n",
    "        fl.write(img_data)"
   ]
  },
  {
   "cell_type": "code",
   "execution_count": null,
   "metadata": {},
   "outputs": [],
   "source": []
  }
 ],
 "metadata": {
  "kernelspec": {
   "display_name": "containercrush",
   "language": "python",
   "name": "containercrush"
  },
  "language_info": {
   "codemirror_mode": {
    "name": "ipython",
    "version": 3
   },
   "file_extension": ".py",
   "mimetype": "text/x-python",
   "name": "python",
   "nbconvert_exporter": "python",
   "pygments_lexer": "ipython3",
   "version": "3.7.5"
  }
 },
 "nbformat": 4,
 "nbformat_minor": 2
}
